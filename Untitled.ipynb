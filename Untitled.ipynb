{
 "cells": [
  {
   "cell_type": "code",
   "execution_count": 1,
   "id": "a3c741ba-dfda-42eb-a96e-8e612ad18ae7",
   "metadata": {},
   "outputs": [],
   "source": [
    "                                            #Assignment part -3"
   ]
  },
  {
   "cell_type": "code",
   "execution_count": 2,
   "id": "d432824f-830d-4b5d-a9a3-288b6ef1f5b3",
   "metadata": {},
   "outputs": [],
   "source": [
    "#Q1. Which keyword is used to create a function? Create a function to return a list of odd numbers in the\n",
    "# range of 1 to 25."
   ]
  },
  {
   "cell_type": "code",
   "execution_count": 3,
   "id": "d598b913-9f4f-46ae-a88b-4436fbfed6b1",
   "metadata": {},
   "outputs": [
    {
     "name": "stdout",
     "output_type": "stream",
     "text": [
      "[1, 3, 5, 7, 9, 11, 13, 15, 17, 19, 21, 23, 25]\n"
     ]
    }
   ],
   "source": [
    "def get_odd_numbers():\n",
    "    odd_numbers = []\n",
    "    for num in range(1, 26):\n",
    "        if num %2 != 0:\n",
    "            odd_numbers.append(num)\n",
    "    return odd_numbers\n",
    "\n",
    "result = get_odd_numbers()\n",
    "print(result)"
   ]
  },
  {
   "cell_type": "code",
   "execution_count": 4,
   "id": "5f54d350-7183-486f-8bc6-28ae034b80f4",
   "metadata": {},
   "outputs": [],
   "source": [
    "# Q2. Why *args and **kwargs is used in some functions? Create a function each for *args and **kwargs\n",
    "# to demonstrate their use."
   ]
  },
  {
   "cell_type": "code",
   "execution_count": 6,
   "id": "b397f0f7-7593-4255-8681-d69f631c799f",
   "metadata": {},
   "outputs": [],
   "source": [
    " #*args and **kwargs parameters in Python functions are used to handle variable-length arguments."
   ]
  },
  {
   "cell_type": "code",
   "execution_count": 14,
   "id": "a53060cf-00ac-461e-9f38-57c2494f6b42",
   "metadata": {},
   "outputs": [],
   "source": [
    "def print_args(*args):\n",
    "    for arg in args:\n",
    "        print(arg)"
   ]
  },
  {
   "cell_type": "code",
   "execution_count": 13,
   "id": "c46f8aae-5ea7-4e32-b735-6b9c3b328351",
   "metadata": {},
   "outputs": [
    {
     "name": "stdout",
     "output_type": "stream",
     "text": [
      "Hello\n",
      "world\n"
     ]
    }
   ],
   "source": [
    "print_args('Hello', 'world')"
   ]
  },
  {
   "cell_type": "code",
   "execution_count": 11,
   "id": "b0a25167-00eb-4689-8f90-4067d8ad80c8",
   "metadata": {},
   "outputs": [],
   "source": [
    "def print_keyword_args(**kwargs):\n",
    "    for key, value in kwargs.items():\n",
    "        print(key, ':', value)\n"
   ]
  },
  {
   "cell_type": "code",
   "execution_count": 12,
   "id": "7a4ca7c7-cbb5-4042-b2ce-52f352e947e8",
   "metadata": {},
   "outputs": [
    {
     "name": "stdout",
     "output_type": "stream",
     "text": [
      "name : sonu\n",
      "age : 30\n",
      "city : New delhi\n"
     ]
    }
   ],
   "source": [
    "print_keyword_args(name='sonu', age=30, city='New delhi')"
   ]
  },
  {
   "cell_type": "code",
   "execution_count": 15,
   "id": "e7294bd6-de38-46e4-a576-1c322d0d6021",
   "metadata": {},
   "outputs": [],
   "source": [
    "# Q3. What is an iterator in python? Name the method used to initialise the iterator object and the method\n",
    "# used for iteration. Use these methods to print the first five elements of the given list [2, 4, 6, 8, 10, 12, 14,\n",
    "# 16, 18, 20]."
   ]
  },
  {
   "cell_type": "code",
   "execution_count": 16,
   "id": "dc9c4ed3-5571-4a07-b125-eda138b608d7",
   "metadata": {},
   "outputs": [],
   "source": [
    "# python an iterator is an object that allows you to interate over collections of data ,such as lists,tuples,dictionaries, and sets \n",
    "# two methods: __iter__() and __next__().\n",
    "\n",
    "# The __iter__() method is used to initialize an iterator object.\n",
    "# It returns the iterator object itself and is called when the iterator is created.\n",
    "\n",
    "# The __next__() method is used to fetch the next element from the iterator.\n",
    "# It returns the next element in the iteration sequence.\n",
    "# If there are no more elements, it raises the StopIteration exception."
   ]
  },
  {
   "cell_type": "code",
   "execution_count": 29,
   "id": "2ea421eb-6819-4dac-ab5f-e035be663a9d",
   "metadata": {},
   "outputs": [],
   "source": [
    "class ListIter:\n",
    "    def __init__(self, lst):\n",
    "        self.lst = lst\n",
    "        self.index = 0\n",
    "\n",
    "    def __iter__(self):\n",
    "        return self\n",
    "\n",
    "    def __next__(self):\n",
    "        if self.index >= len(self.lst):\n",
    "            raise StopIter\n",
    "        else:\n",
    "            value = self.lst[self.index]\n",
    "            self.index += 1\n",
    "            return value\n",
    "my_iterator = ListIter([2, 4, 6, 8, 10, 12, 14, 16, 18, 20])\n"
   ]
  },
  {
   "cell_type": "code",
   "execution_count": 30,
   "id": "3a401407-f90a-4d1c-a364-3e1b4fb2e611",
   "metadata": {},
   "outputs": [
    {
     "name": "stdout",
     "output_type": "stream",
     "text": [
      "2\n",
      "4\n",
      "6\n",
      "8\n",
      "10\n"
     ]
    }
   ],
   "source": [
    "for _ in range(5):\n",
    "    print(next(my_iterator))"
   ]
  },
  {
   "cell_type": "code",
   "execution_count": 31,
   "id": "6f4023d0-0e8d-4364-8eed-8f615630fc26",
   "metadata": {},
   "outputs": [],
   "source": [
    "# Q4. What is a generator function in python? Why yield keyword is used? Give an example of a generator\n",
    "# function."
   ]
  },
  {
   "cell_type": "code",
   "execution_count": 32,
   "id": "3a05eaec-8777-41cf-9cad-255b41c06fca",
   "metadata": {},
   "outputs": [],
   "source": [
    "# generator is a function that returns an iterator that produces a sequence of values when iterated over.\n",
    "# Generators are useful when we want to produce a large sequence of values,\n",
    "# but we don't want to store all of them in memory at once."
   ]
  },
  {
   "cell_type": "code",
   "execution_count": 33,
   "id": "7f44232f-360f-4c44-a5a3-5358708867bb",
   "metadata": {},
   "outputs": [],
   "source": [
    "# The yield keyword is used in generator functions to define points at which the function should yield its current value and\n",
    "# temporarily suspend its execution.\n",
    "# When the generator's iterator is iterated over, each time it encounters a yield statement,\n",
    "# it produces a value and then pauses until the next value is requested.\n",
    "# This allows the generator to generate values incrementally without generating the entire sequence at once.\n"
   ]
  },
  {
   "cell_type": "code",
   "execution_count": 35,
   "id": "f3caac9b-cc83-452b-bfa3-fae3f1528948",
   "metadata": {},
   "outputs": [
    {
     "name": "stdout",
     "output_type": "stream",
     "text": [
      "0\n",
      "2\n",
      "4\n",
      "6\n",
      "8\n"
     ]
    }
   ],
   "source": [
    "def even_numbers(n):\n",
    "    for i in range(n):\n",
    "        if i % 2 == 0:\n",
    "            yield i\n",
    "\n",
    "even_gen = even_numbers(10)\n",
    "for num in even_gen:\n",
    "    print(num)"
   ]
  },
  {
   "cell_type": "code",
   "execution_count": 36,
   "id": "38404fe7-e22a-48f2-8df9-5acad335f8c4",
   "metadata": {},
   "outputs": [],
   "source": [
    "# Q5. Create a generator function for prime numbers less than 1000. Use the next() method to print the\n",
    "# first 20 prime numbers."
   ]
  },
  {
   "cell_type": "code",
   "execution_count": 38,
   "id": "a2cc754e-fb96-4a3e-80d2-06f56f8eeb95",
   "metadata": {},
   "outputs": [
    {
     "name": "stdout",
     "output_type": "stream",
     "text": [
      "2\n",
      "3\n",
      "5\n",
      "7\n",
      "11\n",
      "13\n",
      "17\n",
      "19\n",
      "23\n",
      "29\n",
      "31\n",
      "37\n",
      "41\n",
      "43\n",
      "47\n",
      "53\n",
      "59\n",
      "61\n",
      "67\n",
      "71\n"
     ]
    }
   ],
   "source": [
    "def prime_generator():\n",
    "    yield 2\n",
    "\n",
    "    primes = [2]\n",
    "\n",
    "    num = 3\n",
    "    while num < 1000:\n",
    "        is_prime = True\n",
    "        for prime in primes:\n",
    "            if num % prime == 0:\n",
    "                is_prime = False\n",
    "                break\n",
    "\n",
    "        if is_prime:\n",
    "            yield num\n",
    "            primes.append(num)\n",
    "\n",
    "        num += 2\n",
    "prime_gen = prime_generator()\n",
    "for _ in range(20):\n",
    "    print(next(prime_gen))"
   ]
  },
  {
   "cell_type": "code",
   "execution_count": 39,
   "id": "f70910e3-657d-442f-993d-d33088e89632",
   "metadata": {},
   "outputs": [],
   "source": [
    "# Q6. Write a python program to print the first 10 Fibonacci numbers using a while loop."
   ]
  },
  {
   "cell_type": "code",
   "execution_count": 41,
   "id": "2ab1c031-4061-4226-84d4-1ef8a11e0d9a",
   "metadata": {},
   "outputs": [],
   "source": [
    "#  Fibonacci sequence begins with the following 14 integers:\n",
    "#     0, 1, 1, 2, 3, 5, 8, 13, 21, 34, 55, 89, 144, 233 ... Each number,\n",
    "# starting with the third, adheres to the prescribed formula.\n",
    "# For example, the seventh number,\n",
    "# 8, is preceded by 3 and 5, which add up to 8.\n"
   ]
  },
  {
   "cell_type": "code",
   "execution_count": 42,
   "id": "80dd2be9-7118-4337-bbe3-1e99f13566f1",
   "metadata": {},
   "outputs": [
    {
     "name": "stdout",
     "output_type": "stream",
     "text": [
      "0 1 1 2 3 5 8 13 21 34 "
     ]
    }
   ],
   "source": [
    "def print_fibonacci():\n",
    "    num1, num2 = 0, 1\n",
    "    count = 0\n",
    "\n",
    "    while count < 10:\n",
    "        print(num1, end=\" \")\n",
    "\n",
    "        num1, num2 = num2, num1 + num2\n",
    "        count += 1\n",
    "print_fibonacci()\n"
   ]
  },
  {
   "cell_type": "code",
   "execution_count": 43,
   "id": "b9a56c33-7874-4bfe-8d4f-502cab7ce051",
   "metadata": {},
   "outputs": [],
   "source": [
    "# Q7. Write a List Comprehension to iterate through the given string: ‘pwskills’.\n",
    "# Expected output: ['p', 'w', 's', 'k', 'i', 'l', 'l', 's']"
   ]
  },
  {
   "cell_type": "code",
   "execution_count": 44,
   "id": "078a7975-b55f-41f9-990e-9390757fec4c",
   "metadata": {},
   "outputs": [
    {
     "name": "stdout",
     "output_type": "stream",
     "text": [
      "['p', 'w', 's', 'k', 'i', 'l', 'l', 's']\n"
     ]
    }
   ],
   "source": [
    "string = 'pwskills'\n",
    "output_list = [char for char in string if char in 'pwskills']\n",
    "print(output_list)"
   ]
  },
  {
   "cell_type": "code",
   "execution_count": 45,
   "id": "f4ebb8ab-b2f9-4e3f-9b28-d73ea1b620ba",
   "metadata": {},
   "outputs": [],
   "source": [
    "# Q8. Write a python program to check whether a given number is Palindrome or not using a while loop."
   ]
  },
  {
   "cell_type": "code",
   "execution_count": 50,
   "id": "44330686-bed3-4729-bf51-550aca872c17",
   "metadata": {},
   "outputs": [
    {
     "name": "stdin",
     "output_type": "stream",
     "text": [
      "Enter a number:  78\n"
     ]
    },
    {
     "name": "stdout",
     "output_type": "stream",
     "text": [
      "78 is not a palindrome\n"
     ]
    }
   ],
   "source": [
    "def is_palindrome(number):\n",
    "    original_number = number\n",
    "    reversed_number = 0\n",
    "    while number > 0:\n",
    "        digit = number % 10\n",
    "        reversed_number = (reversed_number * 10) + digit\n",
    "\n",
    "        number = number // 10\n",
    "    if original_number == reversed_number:\n",
    "        return True\n",
    "    else:\n",
    "        return False\n",
    "num = int(input(\"Enter a number: \"))\n",
    "if is_palindrome(num):\n",
    "    print(num, \"is a palindrome\")\n",
    "else:\n",
    "    print(num, \"is not a palindrome\")"
   ]
  },
  {
   "cell_type": "code",
   "execution_count": 51,
   "id": "9ee5cf16-57c6-4aa8-847a-7555cecd060d",
   "metadata": {},
   "outputs": [],
   "source": [
    "# Q9. Write a code to print odd numbers from 1 to 100 using list comprehension."
   ]
  },
  {
   "cell_type": "code",
   "execution_count": null,
   "id": "f58288d5-3360-478d-94ad-e44c7a699256",
   "metadata": {},
   "outputs": [],
   "source": []
  }
 ],
 "metadata": {
  "kernelspec": {
   "display_name": "Python 3 (ipykernel)",
   "language": "python",
   "name": "python3"
  },
  "language_info": {
   "codemirror_mode": {
    "name": "ipython",
    "version": 3
   },
   "file_extension": ".py",
   "mimetype": "text/x-python",
   "name": "python",
   "nbconvert_exporter": "python",
   "pygments_lexer": "ipython3",
   "version": "3.10.8"
  }
 },
 "nbformat": 4,
 "nbformat_minor": 5
}
